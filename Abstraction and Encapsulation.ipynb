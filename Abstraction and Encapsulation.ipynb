{
 "cells": [
  {
   "cell_type": "markdown",
   "id": "e1a2e3be",
   "metadata": {},
   "source": [
    "# Q1. What is Abstraction in OOps? Explain with an example. "
   ]
  },
  {
   "cell_type": "raw",
   "id": "e102ebc9",
   "metadata": {},
   "source": [
    "Abstraction :- In object-oriented programming (OOP), abstraction is a fundamental concept that involves simplifying complex systems by modeling classes based on the essential properties and behaviors they possess, while ignoring or abstracting away the less important details. In simpler terms, abstraction allows you to focus on the high-level structure of an object and its behavior without getting into the nitty-gritty details of its internal implementation."
   ]
  },
  {
   "cell_type": "code",
   "execution_count": 4,
   "id": "ea1f2585",
   "metadata": {},
   "outputs": [
    {
     "data": {
      "text/plain": [
       "'My name is Gaurav'"
      ]
     },
     "execution_count": 4,
     "metadata": {},
     "output_type": "execute_result"
    }
   ],
   "source": [
    "import abc\n",
    "class Self_details:\n",
    "    \n",
    "    @abc.abstractmethod\n",
    "    def name(self):\n",
    "        pass\n",
    "    \n",
    "    @abc.abstractmethod\n",
    "    def age(self):\n",
    "        pass\n",
    "    \n",
    "    @abc.abstractmethod\n",
    "    def clg(self):\n",
    "        pass\n",
    "    \n",
    "#define new class where we can inherited\n",
    "    \n",
    "class details(Self_details):\n",
    "    \n",
    "    def name(self):\n",
    "        return \"My name is Gaurav\"\n",
    "    \n",
    "    def age(self):\n",
    "        return \"I am 20 years old\"\n",
    "    \n",
    "    def clg(self):\n",
    "        return \"Currently doing  my B-Tech from JD college of engineering Nagpur\"\n",
    "    \n",
    " # to get result    \n",
    "detail = details()\n",
    "\n",
    "detail.name()\n",
    "    "
   ]
  },
  {
   "cell_type": "markdown",
   "id": "e1e9333b",
   "metadata": {},
   "source": [
    "# Q2. Differentiate between Abstraction and Encapsulation. Explain with an example."
   ]
  },
  {
   "cell_type": "raw",
   "id": "076f727d",
   "metadata": {},
   "source": [
    "Abstraction:\n",
    "\n",
    "Definition: Abstraction is about simplifying complex systems by modeling classes based on their essential properties and behaviors while hiding unnecessary details.\n",
    "\n",
    "Purpose: It allows you to focus on what an object does without concerning yourself with how it achieves its functionality."
   ]
  },
  {
   "cell_type": "code",
   "execution_count": 12,
   "id": "74b4dd3c",
   "metadata": {},
   "outputs": [
    {
     "name": "stdout",
     "output_type": "stream",
     "text": [
      "This is the car\n",
      "This is the motorcycle\n"
     ]
    }
   ],
   "source": [
    "# Abstraction with a 'Vehicle' class\n",
    "class Vehicle:\n",
    "    def identity(self):\n",
    "        pass\n",
    "\n",
    "class Car(Vehicle):\n",
    "    def identity(self):\n",
    "        return \"This is the car\"\n",
    "\n",
    "class Motorcycle(Vehicle):\n",
    "    def identity(self):\n",
    "        return \"This is the motorcycle\"\n",
    "    \n",
    "    \n",
    "car = Car()\n",
    "moto = Motorcycle()\n",
    "\n",
    "\n",
    "print(car.identity())\n",
    "print(moto.identity())\n",
    "\n",
    "\n"
   ]
  },
  {
   "cell_type": "raw",
   "id": "c12002fa",
   "metadata": {},
   "source": [
    "Encapsulation:\n",
    "\n",
    "Definition: Encapsulation involves bundling the data (attributes) and methods (functions) that operate on the data into a single unit known as a class. It restricts direct access to some of the object's components.\n",
    "\n",
    "Purpose: It helps in data hiding, preventing unintended interference and misuse of data by restricting access to certain parts of the object."
   ]
  },
  {
   "cell_type": "code",
   "execution_count": 13,
   "id": "feef4f62",
   "metadata": {},
   "outputs": [
    {
     "name": "stdout",
     "output_type": "stream",
     "text": [
      "Alice\n",
      "25\n"
     ]
    }
   ],
   "source": [
    "# Encapsulation with a 'Person' class\n",
    "class Person:\n",
    "    def __init__(self, name, age):\n",
    "        self.__name = name  \n",
    "        self.__age = age  \n",
    "\n",
    "    def get_name(self):\n",
    "        return self.__name\n",
    "\n",
    "    def get_age(self):\n",
    "        return self.__age\n",
    "\n",
    "person = Person(\"Alice\", 25)\n",
    "\n",
    "\n",
    "print(person.get_name()) \n",
    "print(person.get_age())  "
   ]
  },
  {
   "cell_type": "markdown",
   "id": "95fe98e1",
   "metadata": {},
   "source": [
    "# Q3. What is abc module in python? Why is it used?"
   ]
  },
  {
   "cell_type": "raw",
   "id": "86cee04a",
   "metadata": {},
   "source": [
    "abc module :- The abc module in Python stands for \"Abstract Base Classes.\" It provides the ABC (Abstract Base Class) and abstractmethod decorators, allowing you to define abstract classes and abstract methods. Abstract classes are classes that cannot be instantiated and are meant to be subclassed by other classes, providing a way to define a common interface for a group of related classes."
   ]
  },
  {
   "cell_type": "raw",
   "id": "02fc3571",
   "metadata": {},
   "source": [
    "Why is it used?\n",
    "\n",
    "It helps ensure that classes implementing a certain interface (a set of methods) actually provide the required methods. This is like saying, \"If you want to be this type of thing, you have to have these specific behaviors.\"\n",
    "\n",
    "It provides a way to clearly define and document what methods a group of related classes should have. It's like a blueprint for how different classes in a family should behave, making the code easier to understand and maintain.\n",
    "\n",
    "Abstract classes are like templates. You can't create an actual object from them directly; they're meant to be completed by other classes. This ensures that certain classes are not used on their own but are meant to be extended.\n",
    "\n",
    "It helps ensure that when you say a class adheres to a certain contract (providing specific methods), it really does. This is like having an agreement among classes – they promise to have certain functionalities, and the abc module helps in enforcing that promise."
   ]
  },
  {
   "cell_type": "markdown",
   "id": "01b3a82b",
   "metadata": {},
   "source": [
    "# Q4. How can we achieve data abstraction?"
   ]
  },
  {
   "cell_type": "markdown",
   "id": "0822968a",
   "metadata": {},
   "source": [
    "Defining abstract data types (ADTs) that specify essential properties and behaviors without detailing the implementation.\n",
    "Using classes and objects to implement these ADTs.\n",
    "\n",
    "Encapsulating data within classes, making it private or protected.\n",
    "\n",
    "Providing public methods as an interface for users to interact with the object.\n",
    "\n",
    "Hiding internal implementation details, allowing users to work with the object's abstract behavior.\n",
    "\n",
    "Optionally, using abstract classes and methods to enforce a consistent interface in an object-oriented context."
   ]
  },
  {
   "cell_type": "markdown",
   "id": "b618e8f0",
   "metadata": {},
   "source": [
    "# Q5. Can we create an instance of an abstract class? Explain your answer."
   ]
  },
  {
   "cell_type": "markdown",
   "id": "5556af0c",
   "metadata": {},
   "source": [
    "No, we cannot create an instance of an abstract class in Python. Abstract classes are meant to be incomplete and serve as a blueprint for other classes. They typically contain one or more abstract methods (methods without a body) that must be implemented by concrete (non-abstract) subclasses.\n",
    "\n",
    "Attempting to create an instance of an abstract class directly will result in a TypeError. The purpose of an abstract class is to be subclassed, and instances should be created from the concrete subclasses that provide implementations for the abstract methods."
   ]
  },
  {
   "cell_type": "code",
   "execution_count": null,
   "id": "25a23992",
   "metadata": {},
   "outputs": [],
   "source": []
  }
 ],
 "metadata": {
  "kernelspec": {
   "display_name": "Python 3 (ipykernel)",
   "language": "python",
   "name": "python3"
  },
  "language_info": {
   "codemirror_mode": {
    "name": "ipython",
    "version": 3
   },
   "file_extension": ".py",
   "mimetype": "text/x-python",
   "name": "python",
   "nbconvert_exporter": "python",
   "pygments_lexer": "ipython3",
   "version": "3.9.13"
  }
 },
 "nbformat": 4,
 "nbformat_minor": 5
}
